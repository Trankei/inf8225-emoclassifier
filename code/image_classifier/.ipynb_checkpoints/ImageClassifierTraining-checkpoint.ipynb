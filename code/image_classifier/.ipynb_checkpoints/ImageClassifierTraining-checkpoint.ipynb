{
 "cells": [
  {
   "cell_type": "code",
   "execution_count": 1,
   "metadata": {},
   "outputs": [],
   "source": [
    "from __future__ import print_function, division\n",
    "import os\n",
    "import torch\n",
    "import pandas as pd\n",
    "from skimage import io, transform\n",
    "import numpy as np\n",
    "import matplotlib.pyplot as plt\n",
    "from torch.utils.data import Dataset, DataLoader, Subset, random_split\n",
    "from torch.utils.data.dataloader import default_collate\n",
    "from torchvision import transforms, utils\n",
    "import requests\n",
    "from bs4 import BeautifulSoup\n",
    "\n",
    "# Ignore warnings\n",
    "import warnings\n",
    "warnings.filterwarnings(\"ignore\")"
   ]
  },
  {
   "cell_type": "code",
   "execution_count": 5,
   "metadata": {},
   "outputs": [
    {
     "name": "stderr",
     "output_type": "stream",
     "text": [
      "Using TensorFlow backend.\n"
     ]
    }
   ],
   "source": [
    "import keras\n",
    "from keras.preprocessing.image import load_img\n",
    "from keras.preprocessing.image import img_to_array\n",
    "from keras.applications.inception_v3 import preprocess_input\n",
    "from keras.applications.inception_v3 import decode_predictions\n",
    "from keras.applications.inception_v3 import InceptionV3\n",
    "from keras.models import model_from_json\n",
    "from keras.models import Model\n",
    "import cv2"
   ]
  },
  {
   "cell_type": "code",
   "execution_count": 9,
   "metadata": {},
   "outputs": [],
   "source": [
    "from sklearn import svm\n",
    "from sklearn.metrics import classification_report,accuracy_score\n",
    "from sklearn.model_selection import train_test_split"
   ]
  },
  {
   "cell_type": "code",
   "execution_count": null,
   "metadata": {},
   "outputs": [],
   "source": [
    "## Load Training set\n",
    "image_features_train = pickle.load(open('../../processed_data/image_training_features.pkl', 'rb'))\n",
    "text_test = pickle.load(open('../../processed_data/text_training.pkl', 'rb'))\n",
    "labels_test = pickle.load(open('../../processed_data/training_labels.pkl', 'rb'))\n",
    "\n",
    "## Load Testing set\n",
    "image_features_test = pickle.load(open('../../processed_data/image_testing_features.pkl', 'rb'))\n",
    "text_test = pickle.load(open('../../processed_data/text_testing.pkl', 'rb'))\n",
    "labels_test = pickle.load(open('../../processed_data/testing_labels.pkl', 'rb'))"
   ]
  },
  {
   "cell_type": "code",
   "execution_count": 70,
   "metadata": {},
   "outputs": [
    {
     "data": {
      "text/plain": [
       "SVC(C=1.0, cache_size=200, class_weight=None, coef0=0.0,\n",
       "  decision_function_shape='ovr', degree=3, gamma='auto_deprecated',\n",
       "  kernel='rbf', max_iter=-1, probability=True, random_state=None,\n",
       "  shrinking=True, tol=0.001, verbose=False)"
      ]
     },
     "execution_count": 70,
     "metadata": {},
     "output_type": "execute_result"
    }
   ],
   "source": [
    "clf = svm.SVC(probability=True)\n",
    "clf.fit(training_features,training_labels)"
   ]
  },
  {
   "cell_type": "code",
   "execution_count": 71,
   "metadata": {},
   "outputs": [
    {
     "name": "stdout",
     "output_type": "stream",
     "text": [
      "[[0.02060316 0.65586946 0.28456044 0.03896693]]\n"
     ]
    }
   ],
   "source": [
    "test_pred = clf.predict_proba(testing_features[0,:].reshape(1, -1))\n",
    "print(test_pred)"
   ]
  },
  {
   "cell_type": "code",
   "execution_count": 72,
   "metadata": {},
   "outputs": [
    {
     "name": "stdout",
     "output_type": "stream",
     "text": [
      "Accuracy: 0.730829420970266\n",
      "\n",
      "\n",
      "              precision    recall  f1-score   support\n",
      "\n",
      "      creepy       0.61      0.77      0.68       115\n",
      "        gore       0.73      0.89      0.80       114\n",
      "       happy       0.90      0.64      0.75       331\n",
      "        rage       0.55      0.84      0.66        79\n",
      "\n",
      "   micro avg       0.73      0.73      0.73       639\n",
      "   macro avg       0.70      0.78      0.72       639\n",
      "weighted avg       0.77      0.73      0.73       639\n",
      "\n"
     ]
    }
   ],
   "source": [
    "test_pred = clf.predict(testing_features)\n",
    "print(\"Accuracy: \"+str(accuracy_score(testing_labels, test_pred)))\n",
    "print('\\n')\n",
    "print(classification_report(test_pred, testing_labels))"
   ]
  },
  {
   "cell_type": "code",
   "execution_count": 14,
   "metadata": {},
   "outputs": [],
   "source": [
    "import pickle"
   ]
  },
  {
   "cell_type": "code",
   "execution_count": 64,
   "metadata": {},
   "outputs": [],
   "source": [
    "pickle.dump(features, open(f'image_features.pkl', 'wb'))\n",
    "pickle.dump(labels, open(f'image_labels.pkl', 'wb'))\n",
    "pickle.dump(clf, open(f'image_classifier_73precision.pkl', 'wb'))"
   ]
  },
  {
   "cell_type": "code",
   "execution_count": 73,
   "metadata": {},
   "outputs": [],
   "source": [
    "pickle.dump(clf, open(f'image_classifier_73precision.pkl', 'wb'))"
   ]
  }
 ],
 "metadata": {
  "kernelspec": {
   "display_name": "Python 3",
   "language": "python",
   "name": "python3"
  },
  "language_info": {
   "codemirror_mode": {
    "name": "ipython",
    "version": 3
   },
   "file_extension": ".py",
   "mimetype": "text/x-python",
   "name": "python",
   "nbconvert_exporter": "python",
   "pygments_lexer": "ipython3",
   "version": "3.6.8"
  }
 },
 "nbformat": 4,
 "nbformat_minor": 2
}
