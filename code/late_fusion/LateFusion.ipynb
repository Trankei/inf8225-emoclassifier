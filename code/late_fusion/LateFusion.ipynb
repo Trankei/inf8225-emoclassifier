{
 "cells": [
  {
   "cell_type": "code",
   "execution_count": 1,
   "metadata": {},
   "outputs": [],
   "source": [
    "import pickle\n",
    "import fastText # For text classifier\n",
    "import numpy as np\n",
    "from sklearn import svm\n",
    "import re\n",
    "import string\n",
    "from sklearn.metrics import classification_report,accuracy_score\n"
   ]
  },
  {
   "cell_type": "code",
   "execution_count": 2,
   "metadata": {},
   "outputs": [],
   "source": [
    "## Load Text classifier\n",
    "text_classifier = fastText.load_model('../../models/text_classfier.bin')"
   ]
  },
  {
   "cell_type": "code",
   "execution_count": 3,
   "metadata": {},
   "outputs": [
    {
     "data": {
      "text/plain": [
       "array(['creepy', 'gore', 'happy', 'rage'], dtype='<U6')"
      ]
     },
     "execution_count": 3,
     "metadata": {},
     "output_type": "execute_result"
    }
   ],
   "source": [
    "## Load Image classifier\n",
    "image_classifier = pickle.load(open('../../models/image_classifier_71precision.pkl', 'rb'))\n",
    "image_classifier.classes_"
   ]
  },
  {
   "cell_type": "code",
   "execution_count": 4,
   "metadata": {},
   "outputs": [],
   "source": [
    "## Load Test set\n",
    "image_features_test = pickle.load(open('../../processed_data/image_testing_features.pkl', 'rb'))\n",
    "text_test = pickle.load(open('../../processed_data/text_testing.pkl', 'rb'))\n",
    "labels_test = pickle.load(open('../../processed_data/testing_labels.pkl', 'rb'))\n",
    "\n",
    "# image_features_test = pickle.load(open('../../processed_data/image_validation_features.pkl', 'rb'))\n",
    "# text_test = pickle.load(open('../../processed_data/text_validation.pkl', 'rb'))\n",
    "# labels_test = pickle.load(open('../../processed_data/validation_labels.pkl', 'rb'))"
   ]
  },
  {
   "cell_type": "code",
   "execution_count": 5,
   "metadata": {},
   "outputs": [
    {
     "name": "stdout",
     "output_type": "stream",
     "text": [
      "((\"__label__b'gore'\", \"__label__b'creepy'\", \"__label__b'rage'\", \"__label__b'happy'\"), array([0.58987284, 0.40007737, 0.00524552, 0.0048442 ]))\n"
     ]
    }
   ],
   "source": [
    "## Text classifier prediction\n",
    "labels = text_classifier.predict(text_test[0][0], k = 4) #change to real test\n",
    "print(labels)"
   ]
  },
  {
   "cell_type": "code",
   "execution_count": 6,
   "metadata": {},
   "outputs": [
    {
     "data": {
      "text/plain": [
       "array([[0.84261397, 0.00709259, 0.06727856, 0.08301487]])"
      ]
     },
     "execution_count": 6,
     "metadata": {},
     "output_type": "execute_result"
    }
   ],
   "source": [
    "## Image classifier prediction\n",
    "image_classifier.predict_proba(image_features_test[0,:].reshape(1, -1))"
   ]
  },
  {
   "cell_type": "code",
   "execution_count": 7,
   "metadata": {},
   "outputs": [],
   "source": [
    "def reorder_text_prob(labels):\n",
    "    # ref : ['creepy', 'gore', 'happy', 'rage']\n",
    "    labels = np.array(labels)\n",
    "    i = 0\n",
    "    prob_vector = [np.nan, np.nan, np.nan, np.nan]\n",
    "    for label in labels[0,:]:\n",
    "        label = re.sub('__label__b', '', label)\n",
    "        labels[0,i] = re.sub(r'\\W+', '', label)\n",
    "        i = i + 1\n",
    "    new_labels = []\n",
    "    for label in np.transpose(labels):\n",
    "        if label[0] == 'creepy':\n",
    "            prob_vector[0] = np.float32(label[1])\n",
    "        elif label[0] == 'gore':\n",
    "            prob_vector[1] = np.float32(label[1])\n",
    "        elif label[0] == 'happy':\n",
    "            prob_vector[2] = np.float32(label[1])\n",
    "        elif label[0] == 'rage':\n",
    "            prob_vector[3] = np.float32(label[1])\n",
    "    return prob_vector"
   ]
  },
  {
   "cell_type": "code",
   "execution_count": 8,
   "metadata": {},
   "outputs": [],
   "source": [
    "def preprocessText(text):\n",
    "    if text == None:\n",
    "        return \"\"\n",
    "    else:\n",
    "        # Remove all unicode characters\n",
    "        text = (text.encode('ascii', 'ignore')).decode('utf-8')\n",
    "        # First we lower case the text\n",
    "        text = text.lower()\n",
    "        # remove links\n",
    "        text = re.sub('((www\\.[^\\s]+)|(https?://[^\\s]+))','',text)\n",
    "        #Remove usernames\n",
    "        text = re.sub('@[^\\s]+','', text)\n",
    "        # replace hashtags by just words\n",
    "        text = re.sub(r'#([^\\s]+)', r'\\1', text)\n",
    "        #correct all multiple white spaces to a single white space\n",
    "        text = re.sub('[\\s]+', ' ', text)\n",
    "        # Remove all punctuation\n",
    "        text = text.translate(str.maketrans('', '', string.punctuation))\n",
    "        # Additional clean up : removing words less than 3 chars, and remove space at the beginning and teh end\n",
    "        text = re.sub(r'\\W*\\b\\w{1,2}\\b', '', text)\n",
    "        text = text.strip()\n",
    "        \n",
    "        return text"
   ]
  },
  {
   "cell_type": "code",
   "execution_count": 9,
   "metadata": {},
   "outputs": [
    {
     "name": "stdout",
     "output_type": "stream",
     "text": [
      "Text Accuracy: 0.6588419405320813\n",
      "Image Accuracy: 0.7120500782472613\n",
      "Late Fusion Accuracy: 0.7949921752738655\n"
     ]
    }
   ],
   "source": [
    "i = 0\n",
    "late_fusion_prob_array = []\n",
    "text_pred = []\n",
    "for line in labels_test:\n",
    "    vect_prob_img = image_classifier.predict_proba(image_features_test[i,:].reshape(1, -1))[0]\n",
    "    text_processed = preprocessText(text_test[i][0])\n",
    "    vect_prob_text = text_classifier.predict(text_processed, k = 4)\n",
    "    temp = re.sub('__label__b', '', vect_prob_text[0][0])\n",
    "    text_pred.append(re.sub(r'\\W+', '', temp))\n",
    "    vect_prob_text = reorder_text_prob(vect_prob_text)\n",
    "    late_fusion_prob = np.multiply(vect_prob_img, vect_prob_text)\n",
    "    late_fusion_prob_array.append(late_fusion_prob)\n",
    "    i = i + 1\n",
    "text_pred = np.array(text_pred).reshape(-1,1)\n",
    "late_fusion_prob_array = np.array(late_fusion_prob_array)\n",
    "idx = np.argmax(late_fusion_prob_array, axis=1)\n",
    "late_fusion_prediction = np.take(image_classifier.classes_,idx)\n",
    "\n",
    "image_pred = image_classifier.predict(image_features_test).reshape(-1,1)\n",
    "print(\"Text Accuracy: \"+str(accuracy_score(labels_test, text_pred)))\n",
    "print(\"Image Accuracy: \"+str(accuracy_score(labels_test, image_pred)))\n",
    "print(\"Late Fusion Accuracy: \"+str(accuracy_score(labels_test, late_fusion_prediction)))"
   ]
  }
 ],
 "metadata": {
  "kernelspec": {
   "display_name": "Python 3",
   "language": "python",
   "name": "python3"
  },
  "language_info": {
   "codemirror_mode": {
    "name": "ipython",
    "version": 3
   },
   "file_extension": ".py",
   "mimetype": "text/x-python",
   "name": "python",
   "nbconvert_exporter": "python",
   "pygments_lexer": "ipython3",
   "version": "3.6.8"
  }
 },
 "nbformat": 4,
 "nbformat_minor": 2
}
